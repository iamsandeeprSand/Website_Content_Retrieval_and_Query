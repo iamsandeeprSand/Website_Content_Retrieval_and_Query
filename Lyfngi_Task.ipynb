{
 "cells": [
  {
   "cell_type": "code",
   "execution_count": 10,
   "metadata": {},
   "outputs": [],
   "source": [
    "import requests\n",
    "from bs4 import BeautifulSoup  # Assuming BeautifulSoup for HTML parsing\n",
    "\n",
    "def scrape_website(url):\n",
    "    response = requests.get(url)\n",
    "    content = response.content\n",
    "\n",
    "    # Parse HTML content based on website structure\n",
    "    soup = BeautifulSoup(content, 'html.parser')\n",
    "\n",
    "    # Extract relevant text using appropriate selectors (e.g., paragraphs, articles)\n",
    "    text_content = soup.find_all('p')  # Example selector, adjust as needed\n",
    "\n",
    "    return text_content\n"
   ]
  },
  {
   "cell_type": "code",
   "execution_count": 13,
   "metadata": {},
   "outputs": [],
   "source": [
    "from pymilvus import connections, Collection, FieldSchema, CollectionSchema, DataType\n",
    "\n",
    "def store_content(content):\n",
    "    # Connect to MILVUS server (replace with your connection details)\n",
    "    connections.connect(\"default\", host='localhost', port='19530')\n",
    "\n",
    "    # Create a collection for storing content (adjust schema as needed)\n",
    "    collection_name = 'website_content'\n",
    "\n",
    "    # Define the schema\n",
    "    fields = [\n",
    "        FieldSchema(name=\"id\", dtype=DataType.INT64, is_primary=True, auto_id=True),\n",
    "        FieldSchema(name=\"text\", dtype=DataType.STRING)\n",
    "    ]\n",
    "    schema = CollectionSchema(fields, \"Collection for storing website content\")\n",
    "    collection = Collection(name=collection_name, schema=schema)\n",
    "\n",
    "    # Convert content to appropriate format for MILVUS (e.g., list of lists)\n",
    "    documents = [[item] for item in content]\n",
    "\n",
    "    # Insert documents into the collection\n",
    "    collection.insert(documents)\n",
    "\n",
    "    # Optionally, you can flush to ensure data is persisted\n",
    "    collection.flush()\n",
    "\n",
    "    # Disconnect from Milvus\n",
    "    connections.disconnect(\"default\")\n"
   ]
  },
  {
   "cell_type": "code",
   "execution_count": 14,
   "metadata": {},
   "outputs": [
    {
     "ename": "MilvusException",
     "evalue": "<MilvusException: (code=2, message=Fail connecting to server on localhost:19530, illegal connection params or server unavailable)>",
     "output_type": "error",
     "traceback": [
      "\u001b[1;31m---------------------------------------------------------------------------\u001b[0m",
      "\u001b[1;31mFutureTimeoutError\u001b[0m                        Traceback (most recent call last)",
      "File \u001b[1;32md:\\New folder (2)\\.venv\\Lib\\site-packages\\pymilvus\\client\\grpc_handler.py:147\u001b[0m, in \u001b[0;36mGrpcHandler._wait_for_channel_ready\u001b[1;34m(self, timeout)\u001b[0m\n\u001b[0;32m    146\u001b[0m \u001b[39mtry\u001b[39;00m:\n\u001b[1;32m--> 147\u001b[0m     grpc\u001b[39m.\u001b[39;49mchannel_ready_future(\u001b[39mself\u001b[39;49m\u001b[39m.\u001b[39;49m_channel)\u001b[39m.\u001b[39;49mresult(timeout\u001b[39m=\u001b[39;49mtimeout)\n\u001b[0;32m    148\u001b[0m     \u001b[39mself\u001b[39m\u001b[39m.\u001b[39m_setup_identifier_interceptor(\u001b[39mself\u001b[39m\u001b[39m.\u001b[39m_user, timeout\u001b[39m=\u001b[39mtimeout)\n",
      "File \u001b[1;32md:\\New folder (2)\\.venv\\Lib\\site-packages\\grpc\\_utilities.py:162\u001b[0m, in \u001b[0;36m_ChannelReadyFuture.result\u001b[1;34m(self, timeout)\u001b[0m\n\u001b[0;32m    161\u001b[0m \u001b[39mdef\u001b[39;00m \u001b[39mresult\u001b[39m(\u001b[39mself\u001b[39m, timeout: Optional[\u001b[39mfloat\u001b[39m] \u001b[39m=\u001b[39m \u001b[39mNone\u001b[39;00m) \u001b[39m-\u001b[39m\u001b[39m>\u001b[39m \u001b[39mNone\u001b[39;00m:\n\u001b[1;32m--> 162\u001b[0m     \u001b[39mself\u001b[39;49m\u001b[39m.\u001b[39;49m_block(timeout)\n",
      "File \u001b[1;32md:\\New folder (2)\\.venv\\Lib\\site-packages\\grpc\\_utilities.py:106\u001b[0m, in \u001b[0;36m_ChannelReadyFuture._block\u001b[1;34m(self, timeout)\u001b[0m\n\u001b[0;32m    105\u001b[0m \u001b[39mif\u001b[39;00m remaining \u001b[39m<\u001b[39m \u001b[39m0\u001b[39m:\n\u001b[1;32m--> 106\u001b[0m     \u001b[39mraise\u001b[39;00m grpc\u001b[39m.\u001b[39mFutureTimeoutError()\n\u001b[0;32m    107\u001b[0m \u001b[39melse\u001b[39;00m:\n",
      "\u001b[1;31mFutureTimeoutError\u001b[0m: ",
      "\nThe above exception was the direct cause of the following exception:\n",
      "\u001b[1;31mMilvusException\u001b[0m                           Traceback (most recent call last)",
      "Cell \u001b[1;32mIn[14], line 2\u001b[0m\n\u001b[0;32m      1\u001b[0m cont \u001b[39m=\u001b[39m scrape_website(\u001b[39m'\u001b[39m\u001b[39mhttps://insights.blackcoffer.com/ml-and-ai-based-insurance-premium-model-to-predict-premium-to-be-charged-by-the-insurance-company/\u001b[39m\u001b[39m'\u001b[39m)\n\u001b[1;32m----> 2\u001b[0m store_content(cont)\n",
      "Cell \u001b[1;32mIn[13], line 5\u001b[0m, in \u001b[0;36mstore_content\u001b[1;34m(content)\u001b[0m\n\u001b[0;32m      3\u001b[0m \u001b[39mdef\u001b[39;00m \u001b[39mstore_content\u001b[39m(content):\n\u001b[0;32m      4\u001b[0m     \u001b[39m# Connect to MILVUS server (replace with your connection details)\u001b[39;00m\n\u001b[1;32m----> 5\u001b[0m     connections\u001b[39m.\u001b[39;49mconnect(\u001b[39m\"\u001b[39;49m\u001b[39mdefault\u001b[39;49m\u001b[39m\"\u001b[39;49m, host\u001b[39m=\u001b[39;49m\u001b[39m'\u001b[39;49m\u001b[39mlocalhost\u001b[39;49m\u001b[39m'\u001b[39;49m, port\u001b[39m=\u001b[39;49m\u001b[39m'\u001b[39;49m\u001b[39m19530\u001b[39;49m\u001b[39m'\u001b[39;49m)\n\u001b[0;32m      7\u001b[0m     \u001b[39m# Create a collection for storing content (adjust schema as needed)\u001b[39;00m\n\u001b[0;32m      8\u001b[0m     collection_name \u001b[39m=\u001b[39m \u001b[39m'\u001b[39m\u001b[39mwebsite_content\u001b[39m\u001b[39m'\u001b[39m\n",
      "File \u001b[1;32md:\\New folder (2)\\.venv\\Lib\\site-packages\\pymilvus\\orm\\connections.py:447\u001b[0m, in \u001b[0;36mConnections.connect\u001b[1;34m(self, alias, user, password, db_name, token, **kwargs)\u001b[0m\n\u001b[0;32m    444\u001b[0m         \u001b[39mif\u001b[39;00m parsed_uri\u001b[39m.\u001b[39mscheme \u001b[39m==\u001b[39m \u001b[39m\"\u001b[39m\u001b[39mhttps\u001b[39m\u001b[39m\"\u001b[39m:\n\u001b[0;32m    445\u001b[0m             kwargs[\u001b[39m\"\u001b[39m\u001b[39msecure\u001b[39m\u001b[39m\"\u001b[39m] \u001b[39m=\u001b[39m \u001b[39mTrue\u001b[39;00m\n\u001b[1;32m--> 447\u001b[0m     connect_milvus(\u001b[39m*\u001b[39;49m\u001b[39m*\u001b[39;49mkwargs, user\u001b[39m=\u001b[39;49muser, password\u001b[39m=\u001b[39;49mpassword, token\u001b[39m=\u001b[39;49mtoken, db_name\u001b[39m=\u001b[39;49mdb_name)\n\u001b[0;32m    448\u001b[0m     \u001b[39mreturn\u001b[39;00m\n\u001b[0;32m    450\u001b[0m \u001b[39m# 2nd Priority, connection configs from env\u001b[39;00m\n",
      "File \u001b[1;32md:\\New folder (2)\\.venv\\Lib\\site-packages\\pymilvus\\orm\\connections.py:398\u001b[0m, in \u001b[0;36mConnections.connect.<locals>.connect_milvus\u001b[1;34m(**kwargs)\u001b[0m\n\u001b[0;32m    395\u001b[0m t \u001b[39m=\u001b[39m kwargs\u001b[39m.\u001b[39mget(\u001b[39m\"\u001b[39m\u001b[39mtimeout\u001b[39m\u001b[39m\"\u001b[39m)\n\u001b[0;32m    396\u001b[0m timeout \u001b[39m=\u001b[39m t \u001b[39mif\u001b[39;00m \u001b[39misinstance\u001b[39m(t, (\u001b[39mint\u001b[39m, \u001b[39mfloat\u001b[39m)) \u001b[39melse\u001b[39;00m Config\u001b[39m.\u001b[39mMILVUS_CONN_TIMEOUT\n\u001b[1;32m--> 398\u001b[0m gh\u001b[39m.\u001b[39;49m_wait_for_channel_ready(timeout\u001b[39m=\u001b[39;49mtimeout)\n\u001b[0;32m    399\u001b[0m \u001b[39mif\u001b[39;00m kwargs\u001b[39m.\u001b[39mget(\u001b[39m\"\u001b[39m\u001b[39mkeep_alive\u001b[39m\u001b[39m\"\u001b[39m, \u001b[39mFalse\u001b[39;00m):\n\u001b[0;32m    400\u001b[0m     gh\u001b[39m.\u001b[39mregister_state_change_callback(\n\u001b[0;32m    401\u001b[0m         ReconnectHandler(\u001b[39mself\u001b[39m, alias, kwargs_copy)\u001b[39m.\u001b[39mreconnect_on_idle\n\u001b[0;32m    402\u001b[0m     )\n",
      "File \u001b[1;32md:\\New folder (2)\\.venv\\Lib\\site-packages\\pymilvus\\client\\grpc_handler.py:150\u001b[0m, in \u001b[0;36mGrpcHandler._wait_for_channel_ready\u001b[1;34m(self, timeout)\u001b[0m\n\u001b[0;32m    148\u001b[0m     \u001b[39mself\u001b[39m\u001b[39m.\u001b[39m_setup_identifier_interceptor(\u001b[39mself\u001b[39m\u001b[39m.\u001b[39m_user, timeout\u001b[39m=\u001b[39mtimeout)\n\u001b[0;32m    149\u001b[0m \u001b[39mexcept\u001b[39;00m grpc\u001b[39m.\u001b[39mFutureTimeoutError \u001b[39mas\u001b[39;00m e:\n\u001b[1;32m--> 150\u001b[0m     \u001b[39mraise\u001b[39;00m MilvusException(\n\u001b[0;32m    151\u001b[0m         code\u001b[39m=\u001b[39mStatus\u001b[39m.\u001b[39mCONNECT_FAILED,\n\u001b[0;32m    152\u001b[0m         message\u001b[39m=\u001b[39m\u001b[39mf\u001b[39m\u001b[39m\"\u001b[39m\u001b[39mFail connecting to server on \u001b[39m\u001b[39m{\u001b[39;00m\u001b[39mself\u001b[39m\u001b[39m.\u001b[39m_address\u001b[39m}\u001b[39;00m\u001b[39m, illegal connection params or server unavailable\u001b[39m\u001b[39m\"\u001b[39m,\n\u001b[0;32m    153\u001b[0m     ) \u001b[39mfrom\u001b[39;00m \u001b[39me\u001b[39;00m\n\u001b[0;32m    154\u001b[0m \u001b[39mexcept\u001b[39;00m \u001b[39mException\u001b[39;00m \u001b[39mas\u001b[39;00m e:\n\u001b[0;32m    155\u001b[0m     \u001b[39mraise\u001b[39;00m e \u001b[39mfrom\u001b[39;00m \u001b[39me\u001b[39;00m\n",
      "\u001b[1;31mMilvusException\u001b[0m: <MilvusException: (code=2, message=Fail connecting to server on localhost:19530, illegal connection params or server unavailable)>"
     ]
    }
   ],
   "source": [
    "cont = scrape_website('https://insights.blackcoffer.com/ml-and-ai-based-insurance-premium-model-to-predict-premium-to-be-charged-by-the-insurance-company/')\n",
    "store_content(cont)"
   ]
  },
  {
   "cell_type": "code",
   "execution_count": 1,
   "metadata": {},
   "outputs": [
    {
     "name": "stdout",
     "output_type": "stream",
     "text": [
      "An error occurred: <SchemaNotReadyException: (code=1, message=No vector field is found.)>\n"
     ]
    }
   ],
   "source": [
    "from pymilvus import connections, Collection, FieldSchema, CollectionSchema, DataType, MilvusException\n",
    "\n",
    "def store_content(content):\n",
    "    try:\n",
    "        # Connect to MILVUS server (replace with your connection details)\n",
    "        connections.connect(\"default\", host='localhost', port='19530', timeout=10.0)\n",
    "\n",
    "        # Create a collection for storing content (adjust schema as needed)\n",
    "        collection_name = 'website_content'\n",
    "\n",
    "        # Define the schema\n",
    "        fields = [\n",
    "            FieldSchema(name=\"id\", dtype=DataType.INT64, is_primary=True, auto_id=True),\n",
    "            FieldSchema(name=\"text\", dtype=DataType.STRING)\n",
    "        ]\n",
    "        schema = CollectionSchema(fields, \"Collection for storing website content\")\n",
    "        collection = Collection(name=collection_name, schema=schema)\n",
    "\n",
    "        # Convert content to appropriate format for MILVUS (e.g., list of lists)\n",
    "        documents = [[item] for item in content]\n",
    "\n",
    "        # Insert documents into the collection\n",
    "        collection.insert(documents)\n",
    "\n",
    "        # Optionally, you can flush to ensure data is persisted\n",
    "        collection.flush()\n",
    "\n",
    "        # Disconnect from Milvus\n",
    "        connections.disconnect(\"default\")\n",
    "\n",
    "    except MilvusException as e:\n",
    "        print(f\"An error occurred: {e}\")\n",
    "\n",
    "# Example usage\n",
    "content = [\"Document 1\", \"Document 2\", \"Document 3\"]\n",
    "store_content(content)\n"
   ]
  },
  {
   "cell_type": "code",
   "execution_count": 9,
   "metadata": {},
   "outputs": [],
   "source": [
    "import requests\n",
    "from bs4 import BeautifulSoup\n",
    "import sqlite3\n",
    "\n",
    "def scrape_website(url):\n",
    "    response = requests.get(url)\n",
    "    content = response.content\n",
    "\n",
    "    # Parse HTML content based on website structure\n",
    "    soup = BeautifulSoup(content, 'html.parser')\n",
    "\n",
    "    # Extract relevant text using appropriate selectors (e.g., paragraphs, articles)\n",
    "    text_content = soup.find_all('p')  # Example selector, adjust as needed\n",
    "    text_list = [p.get_text() for p in text_content]\n",
    "\n",
    "    return text_list\n",
    "\n",
    "def save_to_db(text_list, db_name=\"scraped_content.db\"):\n",
    "    # Connect to SQLite database\n",
    "    conn = sqlite3.connect(db_name)\n",
    "    cursor = conn.cursor()\n",
    "\n",
    "    # Create table if it doesn't exist\n",
    "    cursor.execute('''\n",
    "    CREATE TABLE IF NOT EXISTS content (\n",
    "        id INTEGER PRIMARY KEY AUTOINCREMENT,\n",
    "        paragraph TEXT NOT NULL\n",
    "    )\n",
    "    ''')\n",
    "\n",
    "    # Insert text content into the table\n",
    "    for paragraph in text_list:\n",
    "        cursor.execute('''\n",
    "        INSERT INTO content (paragraph) VALUES (?)\n",
    "        ''', (paragraph,))\n",
    "\n",
    "    # Commit and close the connection\n",
    "    conn.commit()\n",
    "    conn.close()\n",
    "\n",
    "if __name__ == \"__main__\":\n",
    "    url = \"https://insights.blackcoffer.com/ml-and-ai-based-insurance-premium-model-to-predict-premium-to-be-charged-by-the-insurance-company/\"  # Replace with the target URL\n",
    "    text_list = scrape_website(url)\n",
    "    save_to_db(text_list)\n"
   ]
  },
  {
   "cell_type": "code",
   "execution_count": 5,
   "metadata": {},
   "outputs": [
    {
     "data": {
      "text/plain": [
       "[<p class=\"entry-title td-module-title\"><a href=\"https://insights.blackcoffer.com/healthcare-ai-chatbot-using-llama-llm-langchain/\" rel=\"bookmark\" title=\"Healthcare AI ChatBot using LLAMA, LLM, Langchain\">Healthcare AI ChatBot using LLAMA, LLM, Langchain</a></p>,\n",
       " <p class=\"entry-title td-module-title\"><a href=\"https://insights.blackcoffer.com/efficient-supply-chain-assessment-overcoming-technical-hurdles-for-web-application-development/\" rel=\"bookmark\" title=\"Efficient Supply Chain Assessment: Overcoming Technical Hurdles for Web Application Development\">Efficient Supply Chain Assessment: Overcoming Technical Hurdles for Web Application Development</a></p>,\n",
       " <p class=\"entry-title td-module-title\"><a href=\"https://insights.blackcoffer.com/streamlined-integration-interactive-brokers-api-with-python-for-desktop-trading-application/\" rel=\"bookmark\" title=\"Streamlined Integration: Interactive Brokers API with Python for Desktop Trading Application\">Streamlined Integration: Interactive Brokers API with Python for Desktop Trading Application</a></p>,\n",
       " <p class=\"entry-title td-module-title\"><a href=\"https://insights.blackcoffer.com/efficient-data-integration-and-user-friendly-interface-development-navigating-challenges-in-web-application-deployment/\" rel=\"bookmark\" title=\"Efficient Data Integration and User-Friendly Interface Development: Navigating Challenges in Web Application Deployment\">Efficient Data Integration and User-Friendly Interface Development: Navigating Challenges in Web Application Deployment</a></p>,\n",
       " <p class=\"entry-title td-module-title\"><a href=\"https://insights.blackcoffer.com/ai-chatbot-using-llm-langchain-llama/\" rel=\"bookmark\" title=\"AI Chatbot using LLM, Langchain, LLama\">AI Chatbot using LLM, Langchain, LLama</a></p>,\n",
       " <p class=\"entry-title td-module-title\"><a href=\"https://insights.blackcoffer.com/ai-bot-audio-to-audio/\" rel=\"bookmark\" title=\"AI Bot Audio to audio\">AI Bot Audio to audio</a></p>,\n",
       " <p class=\"entry-title td-module-title\"><a href=\"https://insights.blackcoffer.com/methodology-for-etl-discovery-tool-using-llma-openai-langchain/\" rel=\"bookmark\" title=\"Methodology for ETL Discovery Tool using LLMA, OpenAI, Langchain\">Methodology for ETL Discovery Tool using LLMA, OpenAI, Langchain</a></p>,\n",
       " <p class=\"entry-title td-module-title\"><a href=\"https://insights.blackcoffer.com/methodology-for-database-discovery-tool-using-openai-llma-langchain/\" rel=\"bookmark\" title=\"Methodology for database discovery tool using openai, LLMA, Langchain\">Methodology for database discovery tool using openai, LLMA, Langchain</a></p>,\n",
       " <p class=\"entry-title td-module-title\"><a href=\"https://insights.blackcoffer.com/rising-it-cities-and-its-impact-on-the-economy-environment-infrastructure-and-city-life-by-the-year-2040-2/\" rel=\"bookmark\" title=\"Rising IT cities and its impact on the economy, environment, infrastructure, and city life by the year 2040.\">Rising IT cities and its impact on the economy, environment, infrastructure, and city life by the year 2040.</a></p>,\n",
       " <p class=\"entry-title td-module-title\"><a href=\"https://insights.blackcoffer.com/rising-it-cities-and-their-impact-on-the-economy-environment-infrastructure-and-city-life-in-future/\" rel=\"bookmark\" title=\"Rising IT Cities and Their Impact on the Economy, Environment, Infrastructure, and City Life in Future\">Rising IT Cities and Their Impact on the Economy, Environment, Infrastructure, and City Life in Future</a></p>,\n",
       " <p class=\"entry-title td-module-title\"><a href=\"https://insights.blackcoffer.com/internet-demands-evolution-communication-impact-and-2035s-alternative-pathways/\" rel=\"bookmark\" title=\"Internet Demand’s Evolution, Communication Impact, and 2035’s Alternative Pathways\">Internet Demand’s Evolution, Communication Impact, and 2035’s Alternative Pathways</a></p>,\n",
       " <p class=\"entry-title td-module-title\"><a href=\"https://insights.blackcoffer.com/rise-of-cybercrime-and-its-effect-in-upcoming-future/\" rel=\"bookmark\" title=\"Rise of Cybercrime and its Effect in upcoming Future\">Rise of Cybercrime and its Effect in upcoming Future</a></p>,\n",
       " <p class=\"entry-title td-module-title\"><a href=\"https://insights.blackcoffer.com/ai-ml-and-predictive-modeling/\" rel=\"bookmark\" title=\"AI/ML and Predictive Modeling\">AI/ML and Predictive Modeling</a></p>,\n",
       " <p class=\"entry-title td-module-title\"><a href=\"https://insights.blackcoffer.com/solution-for-contact-centre-problems/\" rel=\"bookmark\" title=\"Solution for Contact Centre Problems\">Solution for Contact Centre Problems</a></p>,\n",
       " <p class=\"entry-title td-module-title\"><a href=\"https://insights.blackcoffer.com/how-to-setup-custom-domain-for-google-app-engine-application/\" rel=\"bookmark\" title=\"How to Setup Custom Domain for Google App Engine Application?\">How to Setup Custom Domain for Google App Engine Application?</a></p>,\n",
       " <p class=\"entry-title td-module-title\"><a href=\"https://insights.blackcoffer.com/code-review-checklist/\" rel=\"bookmark\" title=\"Code Review Checklist\">Code Review Checklist</a></p>,\n",
       " <p><strong>Client:</strong> A leading insurance firm worldwide</p>,\n",
       " <p><strong>Industry Type: </strong>BFSI</p>,\n",
       " <p><strong>Products &amp; Services: </strong>Insurance</p>,\n",
       " <p><strong>Organization Size:</strong> 10000+<br/></p>,\n",
       " <p>The insurance industry, particularly in the context of providing coverage to Public Company Directors against Insider Trading public lawsuits, faces a significant challenge in accurately determining insurance premiums. Traditional methods of premium calculation may lack precision, and there is a growing need for more sophisticated and data-driven approaches. The integration of Artificial Intelligence (AI) and Machine Learning (ML) models in predicting insurance premiums for this specialized coverage is essential to enhance accuracy, fairness, and responsiveness in adapting to evolving risk factors.</p>,\n",
       " <p>The problem at hand involves developing robust AI and ML models that can effectively analyze a multitude of dynamic variables influencing the risk profile of Public Company Directors. These variables include market conditions, regulatory changes, historical legal precedents, financial performance of the insured company, and individual directorial behaviors. The goal is to create a predictive model that not only accurately assesses the risk associated with potential insider trading public lawsuits but also adapts in real-time to new information, ensuring that the insurance premiums charged by the global insurance firm are reflective of the current risk landscape.</p>,\n",
       " <p><strong>Key Challenges:</strong></p>,\n",
       " <p>Addressing these challenges will not only improve the accuracy of insurance premium predictions but also contribute to the overall efficiency and effectiveness of the insurance services provided to Public Company Directors by the leading global insurance firm.</p>,\n",
       " <p>To develop an ML and AI-based insurance premium prediction model for Public Company Directors in the USA, safeguarding them against insider trading public lawsuits, we propose a comprehensive solution leveraging advanced machine learning techniques. The goal is to create a model that accurately assesses the risk associated with individual directors and adapts to dynamic market conditions.</p>,\n",
       " <p>By adopting this ML and AI-based approach, the insurance company can enhance its ability to predict insurance premiums accurately, adapt to changing risk landscapes, and provide tailored coverage for Public Company Directors against insider trading public lawsuits in the dynamic environment of the USA.</p>,\n",
       " <p></p>,\n",
       " <p></p>,\n",
       " <p>Building an ML and AI-based insurance premium prediction model involves the use of various tools and technologies across different stages of development. Here’s a list of tools and technologies that can be employed for creating such a model for a leading insurance firm in the USA, specifically targeting Public Company Directors against insider trading public lawsuits:</p>,\n",
       " <p>It’s important to note that the choice of specific tools may vary based on the preferences of the data science team, the complexity of the model, and the existing technology stack of the insurance company. Additionally, compliance with regulatory requirements and industry standards should be considered in the selection of tools and technologies.</p>,\n",
       " <p>The deliverables for an ML and AI-based insurance premium model for Public Company Directors in the USA, aiming to predict premiums for protection against insider trading public lawsuits, would encompass various stages of the development and deployment process. Here is a comprehensive list of deliverables:</p>,\n",
       " <p>1.1 <strong>Project Proposal:</strong></p>,\n",
       " <p>1.2 <strong>Requirements Document:</strong></p>,\n",
       " <p>2.1 <strong>Data Collection Report:</strong></p>,\n",
       " <p>2.2 <strong>Cleaned and Preprocessed Dataset:</strong></p>,\n",
       " <p>3.1 <strong>Feature Selection and Engineering Report:</strong></p>,\n",
       " <p>4.1 <strong>Trained ML Models:</strong></p>,\n",
       " <p>4.2 <strong>Model Evaluation Report:</strong></p>,\n",
       " <p>5.1 <strong>Real-Time Integration Component:</strong></p>,\n",
       " <p>5.2 <strong>Scenario Analysis Module:</strong></p>,\n",
       " <p>6.1 <strong>Fairness Assessment Report:</strong></p>,\n",
       " <p>6.2 <strong>Explainability Module:</strong></p>,\n",
       " <p>7.1 <strong>Deployed API:</strong></p>,\n",
       " <p>7.2 <strong>User Interface (UI):</strong></p>,\n",
       " <p>7.3 <strong>Documentation for Integration:</strong></p>,\n",
       " <p>8.1 <strong>Monitoring Dashboard:</strong></p>,\n",
       " <p>8.2 <strong>Automated Model Update Pipeline:</strong></p>,\n",
       " <p>9.1 <strong>Model Architecture Document:</strong></p>,\n",
       " <p>9.2 <strong>Technical User Manual:</strong></p>,\n",
       " <p>10.1 <strong>Training Sessions:</strong></p>,\n",
       " <p>10.2 <strong>Knowledge Transfer Documentation:</strong></p>,\n",
       " <p>11.1 <strong>Regulatory Compliance Report:</strong></p>,\n",
       " <p>11.2 <strong>Data Privacy and Security Documentation:</strong></p>,\n",
       " <p>12.1 <strong>Support and Maintenance Plan:</strong></p>,\n",
       " <p>By delivering these items, the insurance firm can ensure a thorough and transparent development process, facilitating successful integration and utilization of the ML and AI-based insurance premium prediction model.</p>,\n",
       " <p>The implementation of an ML and AI-based insurance premium model for Public Company Directors in the USA, specifically tailored to protect them from insider trading public lawsuits, can have significant business impacts for the leading insurance firm. Here are several potential business impacts:</p>,\n",
       " <p>By recognizing and leveraging these business impacts, the leading insurance firm can derive significant value from the implementation of an ML and AI-based insurance premium model tailored for Public Company Directors in the USA.</p>,\n",
       " <p></p>,\n",
       " <p>Summarized: https://blackcoffer.com/</p>,\n",
       " <p>This project was done by Blackcoffer Team, a Global IT Consulting firm.</p>,\n",
       " <p></p>,\n",
       " <p>This solution was designed and developed by Blackcoffer Team<br/>Here are my contact details:<br/>Firm Name: Blackcoffer Pvt. Ltd.<br/>Firm Website: www.blackcoffer.com<br/>Firm Address: 4/2, E-Extension, Shaym Vihar Phase 1, New Delhi 110043<br/>Email: ajay@blackcoffer.com<br/>Skype: asbidyarthy<br/>WhatsApp: +91 9717367468<br/>Telegram: @asbidyarthy</p>,\n",
       " <p class=\"tdm-descr\">We provide intelligence, accelerate innovation and implement technology with extraordinary breadth and depth global insights into the big data,data-driven dashboards, applications development, and information management for organizations through combining unique, specialist services and high-lvel human expertise.</p>,\n",
       " <p class=\"tdm-descr\">Contact us: <a href=\"mailto:hello@blackcoffer.com\">hello@blackcoffer.com</a></p>,\n",
       " <p class=\"tdm-descr\">© All Right Reserved, Blackcoffer(OPC) Pvt. Ltd</p>]"
      ]
     },
     "execution_count": 5,
     "metadata": {},
     "output_type": "execute_result"
    }
   ],
   "source": [
    "scrape_website('https://insights.blackcoffer.com/ml-and-ai-based-insurance-premium-model-to-predict-premium-to-be-charged-by-the-insurance-company/')"
   ]
  },
  {
   "cell_type": "code",
   "execution_count": 11,
   "metadata": {},
   "outputs": [
    {
     "name": "stderr",
     "output_type": "stream",
     "text": [
      "Failed to create new connection using: c4fc8ef34f294e938c0a0ff0eb84b637\n"
     ]
    },
    {
     "ename": "ModuleNotFoundError",
     "evalue": "No module named 'milvus_lite'",
     "output_type": "error",
     "traceback": [
      "\u001b[1;31m---------------------------------------------------------------------------\u001b[0m",
      "\u001b[1;31mModuleNotFoundError\u001b[0m                       Traceback (most recent call last)",
      "    \u001b[1;31m[... skipping hidden 1 frame]\u001b[0m\n",
      "Cell \u001b[1;32mIn[11], line 3\u001b[0m\n\u001b[0;32m      1\u001b[0m \u001b[39mfrom\u001b[39;00m \u001b[39mpymilvus\u001b[39;00m \u001b[39mimport\u001b[39;00m MilvusClient\n\u001b[1;32m----> 3\u001b[0m client \u001b[39m=\u001b[39m MilvusClient(\u001b[39m\"\u001b[39;49m\u001b[39mscraped_content.db\u001b[39;49m\u001b[39m\"\u001b[39;49m)\n",
      "File \u001b[1;32md:\\New folder (2)\\.venv\\Lib\\site-packages\\pymilvus\\milvus_client\\milvus_client.py:58\u001b[0m, in \u001b[0;36mMilvusClient.__init__\u001b[1;34m(self, uri, user, password, db_name, token, timeout, **kwargs)\u001b[0m\n\u001b[0;32m     46\u001b[0m \u001b[39m\u001b[39m\u001b[39m\"\"\"A client for the common Milvus use case.\u001b[39;00m\n\u001b[0;32m     47\u001b[0m \n\u001b[0;32m     48\u001b[0m \u001b[39mThis client attempts to hide away the complexity of using Pymilvus. In a lot ofcases what\u001b[39;00m\n\u001b[1;32m   (...)\u001b[0m\n\u001b[0;32m     56\u001b[0m \u001b[39m        to None.\u001b[39;00m\n\u001b[0;32m     57\u001b[0m \u001b[39m\"\"\"\u001b[39;00m\n\u001b[1;32m---> 58\u001b[0m \u001b[39mself\u001b[39m\u001b[39m.\u001b[39m_using \u001b[39m=\u001b[39m \u001b[39mself\u001b[39;49m\u001b[39m.\u001b[39;49m_create_connection(\n\u001b[0;32m     59\u001b[0m     uri, user, password, db_name, token, timeout\u001b[39m=\u001b[39;49mtimeout, \u001b[39m*\u001b[39;49m\u001b[39m*\u001b[39;49mkwargs\n\u001b[0;32m     60\u001b[0m )\n\u001b[0;32m     61\u001b[0m \u001b[39mself\u001b[39m\u001b[39m.\u001b[39mis_self_hosted \u001b[39m=\u001b[39m \u001b[39mbool\u001b[39m(utility\u001b[39m.\u001b[39mget_server_type(using\u001b[39m=\u001b[39m\u001b[39mself\u001b[39m\u001b[39m.\u001b[39m_using) \u001b[39m==\u001b[39m \u001b[39m\"\u001b[39m\u001b[39mmilvus\u001b[39m\u001b[39m\"\u001b[39m)\n",
      "File \u001b[1;32md:\\New folder (2)\\.venv\\Lib\\site-packages\\pymilvus\\milvus_client\\milvus_client.py:651\u001b[0m, in \u001b[0;36mMilvusClient._create_connection\u001b[1;34m(self, uri, user, password, db_name, token, **kwargs)\u001b[0m\n\u001b[0;32m    650\u001b[0m     logger\u001b[39m.\u001b[39merror(\u001b[39m\"\u001b[39m\u001b[39mFailed to create new connection using: \u001b[39m\u001b[39m%s\u001b[39;00m\u001b[39m\"\u001b[39m, using)\n\u001b[1;32m--> 651\u001b[0m     \u001b[39mraise\u001b[39;00m ex \u001b[39mfrom\u001b[39;00m \u001b[39mex\u001b[39;00m\n\u001b[0;32m    652\u001b[0m \u001b[39melse\u001b[39;00m:\n",
      "File \u001b[1;32md:\\New folder (2)\\.venv\\Lib\\site-packages\\pymilvus\\milvus_client\\milvus_client.py:648\u001b[0m, in \u001b[0;36mMilvusClient._create_connection\u001b[1;34m(self, uri, user, password, db_name, token, **kwargs)\u001b[0m\n\u001b[0;32m    647\u001b[0m \u001b[39mtry\u001b[39;00m:\n\u001b[1;32m--> 648\u001b[0m     connections\u001b[39m.\u001b[39;49mconnect(using, user, password, db_name, token, uri\u001b[39m=\u001b[39;49muri, \u001b[39m*\u001b[39;49m\u001b[39m*\u001b[39;49mkwargs)\n\u001b[0;32m    649\u001b[0m \u001b[39mexcept\u001b[39;00m \u001b[39mException\u001b[39;00m \u001b[39mas\u001b[39;00m ex:\n",
      "File \u001b[1;32md:\\New folder (2)\\.venv\\Lib\\site-packages\\pymilvus\\orm\\connections.py:378\u001b[0m, in \u001b[0;36mConnections.connect\u001b[1;34m(self, alias, user, password, db_name, token, **kwargs)\u001b[0m\n\u001b[0;32m    374\u001b[0m     \u001b[39mraise\u001b[39;00m ConnectionConfigException(\n\u001b[0;32m    375\u001b[0m         message\u001b[39m=\u001b[39m\u001b[39mf\u001b[39m\u001b[39m\"\u001b[39m\u001b[39mOpen local milvus failed, dir: \u001b[39m\u001b[39m{\u001b[39;00mparent_path\u001b[39m}\u001b[39;00m\u001b[39m is not exists\u001b[39m\u001b[39m\"\u001b[39m\n\u001b[0;32m    376\u001b[0m     )\n\u001b[1;32m--> 378\u001b[0m \u001b[39mfrom\u001b[39;00m \u001b[39mmilvus_lite\u001b[39;00m\u001b[39m.\u001b[39;00m\u001b[39mserver_manager\u001b[39;00m \u001b[39mimport\u001b[39;00m server_manager_instance\n\u001b[0;32m    380\u001b[0m local_uri \u001b[39m=\u001b[39m server_manager_instance\u001b[39m.\u001b[39mstart_and_get_uri(kwargs[\u001b[39m\"\u001b[39m\u001b[39muri\u001b[39m\u001b[39m\"\u001b[39m])\n",
      "\u001b[1;31mModuleNotFoundError\u001b[0m: No module named 'milvus_lite'",
      "\nThe above exception was the direct cause of the following exception:\n",
      "\u001b[1;31mModuleNotFoundError\u001b[0m                       Traceback (most recent call last)",
      "    \u001b[1;31m[... skipping hidden 1 frame]\u001b[0m\n",
      "Cell \u001b[1;32mIn[11], line 3\u001b[0m\n\u001b[0;32m      1\u001b[0m \u001b[39mfrom\u001b[39;00m \u001b[39mpymilvus\u001b[39;00m \u001b[39mimport\u001b[39;00m MilvusClient\n\u001b[1;32m----> 3\u001b[0m client \u001b[39m=\u001b[39m MilvusClient(\u001b[39m\"\u001b[39;49m\u001b[39mscraped_content.db\u001b[39;49m\u001b[39m\"\u001b[39;49m)\n",
      "File \u001b[1;32md:\\New folder (2)\\.venv\\Lib\\site-packages\\pymilvus\\milvus_client\\milvus_client.py:58\u001b[0m, in \u001b[0;36mMilvusClient.__init__\u001b[1;34m(self, uri, user, password, db_name, token, timeout, **kwargs)\u001b[0m\n\u001b[0;32m     46\u001b[0m \u001b[39m\u001b[39m\u001b[39m\"\"\"A client for the common Milvus use case.\u001b[39;00m\n\u001b[0;32m     47\u001b[0m \n\u001b[0;32m     48\u001b[0m \u001b[39mThis client attempts to hide away the complexity of using Pymilvus. In a lot ofcases what\u001b[39;00m\n\u001b[1;32m   (...)\u001b[0m\n\u001b[0;32m     56\u001b[0m \u001b[39m        to None.\u001b[39;00m\n\u001b[0;32m     57\u001b[0m \u001b[39m\"\"\"\u001b[39;00m\n\u001b[1;32m---> 58\u001b[0m \u001b[39mself\u001b[39m\u001b[39m.\u001b[39m_using \u001b[39m=\u001b[39m \u001b[39mself\u001b[39;49m\u001b[39m.\u001b[39;49m_create_connection(\n\u001b[0;32m     59\u001b[0m     uri, user, password, db_name, token, timeout\u001b[39m=\u001b[39;49mtimeout, \u001b[39m*\u001b[39;49m\u001b[39m*\u001b[39;49mkwargs\n\u001b[0;32m     60\u001b[0m )\n\u001b[0;32m     61\u001b[0m \u001b[39mself\u001b[39m\u001b[39m.\u001b[39mis_self_hosted \u001b[39m=\u001b[39m \u001b[39mbool\u001b[39m(utility\u001b[39m.\u001b[39mget_server_type(using\u001b[39m=\u001b[39m\u001b[39mself\u001b[39m\u001b[39m.\u001b[39m_using) \u001b[39m==\u001b[39m \u001b[39m\"\u001b[39m\u001b[39mmilvus\u001b[39m\u001b[39m\"\u001b[39m)\n",
      "File \u001b[1;32md:\\New folder (2)\\.venv\\Lib\\site-packages\\pymilvus\\milvus_client\\milvus_client.py:651\u001b[0m, in \u001b[0;36mMilvusClient._create_connection\u001b[1;34m(self, uri, user, password, db_name, token, **kwargs)\u001b[0m\n\u001b[0;32m    650\u001b[0m     logger\u001b[39m.\u001b[39merror(\u001b[39m\"\u001b[39m\u001b[39mFailed to create new connection using: \u001b[39m\u001b[39m%s\u001b[39;00m\u001b[39m\"\u001b[39m, using)\n\u001b[1;32m--> 651\u001b[0m     \u001b[39mraise\u001b[39;00m ex \u001b[39mfrom\u001b[39;00m \u001b[39mex\u001b[39;00m\n\u001b[0;32m    652\u001b[0m \u001b[39melse\u001b[39;00m:\n",
      "File \u001b[1;32md:\\New folder (2)\\.venv\\Lib\\site-packages\\pymilvus\\milvus_client\\milvus_client.py:648\u001b[0m, in \u001b[0;36mMilvusClient._create_connection\u001b[1;34m(self, uri, user, password, db_name, token, **kwargs)\u001b[0m\n\u001b[0;32m    647\u001b[0m \u001b[39mtry\u001b[39;00m:\n\u001b[1;32m--> 648\u001b[0m     connections\u001b[39m.\u001b[39;49mconnect(using, user, password, db_name, token, uri\u001b[39m=\u001b[39;49muri, \u001b[39m*\u001b[39;49m\u001b[39m*\u001b[39;49mkwargs)\n\u001b[0;32m    649\u001b[0m \u001b[39mexcept\u001b[39;00m \u001b[39mException\u001b[39;00m \u001b[39mas\u001b[39;00m ex:\n",
      "File \u001b[1;32md:\\New folder (2)\\.venv\\Lib\\site-packages\\pymilvus\\orm\\connections.py:378\u001b[0m, in \u001b[0;36mConnections.connect\u001b[1;34m(self, alias, user, password, db_name, token, **kwargs)\u001b[0m\n\u001b[0;32m    374\u001b[0m     \u001b[39mraise\u001b[39;00m ConnectionConfigException(\n\u001b[0;32m    375\u001b[0m         message\u001b[39m=\u001b[39m\u001b[39mf\u001b[39m\u001b[39m\"\u001b[39m\u001b[39mOpen local milvus failed, dir: \u001b[39m\u001b[39m{\u001b[39;00mparent_path\u001b[39m}\u001b[39;00m\u001b[39m is not exists\u001b[39m\u001b[39m\"\u001b[39m\n\u001b[0;32m    376\u001b[0m     )\n\u001b[1;32m--> 378\u001b[0m \u001b[39mfrom\u001b[39;00m \u001b[39mmilvus_lite\u001b[39;00m\u001b[39m.\u001b[39;00m\u001b[39mserver_manager\u001b[39;00m \u001b[39mimport\u001b[39;00m server_manager_instance\n\u001b[0;32m    380\u001b[0m local_uri \u001b[39m=\u001b[39m server_manager_instance\u001b[39m.\u001b[39mstart_and_get_uri(kwargs[\u001b[39m\"\u001b[39m\u001b[39muri\u001b[39m\u001b[39m\"\u001b[39m])\n",
      "\u001b[1;31mModuleNotFoundError\u001b[0m: No module named 'milvus_lite'",
      "\nThe above exception was the direct cause of the following exception:\n",
      "\u001b[1;31mModuleNotFoundError\u001b[0m                       Traceback (most recent call last)",
      "Cell \u001b[1;32mIn[11], line 3\u001b[0m\n\u001b[0;32m      1\u001b[0m \u001b[39mfrom\u001b[39;00m \u001b[39mpymilvus\u001b[39;00m \u001b[39mimport\u001b[39;00m MilvusClient\n\u001b[1;32m----> 3\u001b[0m client \u001b[39m=\u001b[39m MilvusClient(\u001b[39m\"\u001b[39;49m\u001b[39mscraped_content.db\u001b[39;49m\u001b[39m\"\u001b[39;49m)\n",
      "File \u001b[1;32md:\\New folder (2)\\.venv\\Lib\\site-packages\\pymilvus\\milvus_client\\milvus_client.py:58\u001b[0m, in \u001b[0;36mMilvusClient.__init__\u001b[1;34m(self, uri, user, password, db_name, token, timeout, **kwargs)\u001b[0m\n\u001b[0;32m     36\u001b[0m \u001b[39mdef\u001b[39;00m \u001b[39m__init__\u001b[39m(\n\u001b[0;32m     37\u001b[0m     \u001b[39mself\u001b[39m,\n\u001b[0;32m     38\u001b[0m     uri: \u001b[39mstr\u001b[39m \u001b[39m=\u001b[39m \u001b[39m\"\u001b[39m\u001b[39mhttp://localhost:19530\u001b[39m\u001b[39m\"\u001b[39m,\n\u001b[1;32m   (...)\u001b[0m\n\u001b[0;32m     44\u001b[0m     \u001b[39m*\u001b[39m\u001b[39m*\u001b[39mkwargs,\n\u001b[0;32m     45\u001b[0m ) \u001b[39m-\u001b[39m\u001b[39m>\u001b[39m \u001b[39mNone\u001b[39;00m:\n\u001b[0;32m     46\u001b[0m \u001b[39m    \u001b[39m\u001b[39m\"\"\"A client for the common Milvus use case.\u001b[39;00m\n\u001b[0;32m     47\u001b[0m \n\u001b[0;32m     48\u001b[0m \u001b[39m    This client attempts to hide away the complexity of using Pymilvus. In a lot ofcases what\u001b[39;00m\n\u001b[1;32m   (...)\u001b[0m\n\u001b[0;32m     56\u001b[0m \u001b[39m            to None.\u001b[39;00m\n\u001b[0;32m     57\u001b[0m \u001b[39m    \"\"\"\u001b[39;00m\n\u001b[1;32m---> 58\u001b[0m     \u001b[39mself\u001b[39m\u001b[39m.\u001b[39m_using \u001b[39m=\u001b[39m \u001b[39mself\u001b[39;49m\u001b[39m.\u001b[39;49m_create_connection(\n\u001b[0;32m     59\u001b[0m         uri, user, password, db_name, token, timeout\u001b[39m=\u001b[39;49mtimeout, \u001b[39m*\u001b[39;49m\u001b[39m*\u001b[39;49mkwargs\n\u001b[0;32m     60\u001b[0m     )\n\u001b[0;32m     61\u001b[0m     \u001b[39mself\u001b[39m\u001b[39m.\u001b[39mis_self_hosted \u001b[39m=\u001b[39m \u001b[39mbool\u001b[39m(utility\u001b[39m.\u001b[39mget_server_type(using\u001b[39m=\u001b[39m\u001b[39mself\u001b[39m\u001b[39m.\u001b[39m_using) \u001b[39m==\u001b[39m \u001b[39m\"\u001b[39m\u001b[39mmilvus\u001b[39m\u001b[39m\"\u001b[39m)\n",
      "File \u001b[1;32md:\\New folder (2)\\.venv\\Lib\\site-packages\\pymilvus\\milvus_client\\milvus_client.py:651\u001b[0m, in \u001b[0;36mMilvusClient._create_connection\u001b[1;34m(self, uri, user, password, db_name, token, **kwargs)\u001b[0m\n\u001b[0;32m    649\u001b[0m \u001b[39mexcept\u001b[39;00m \u001b[39mException\u001b[39;00m \u001b[39mas\u001b[39;00m ex:\n\u001b[0;32m    650\u001b[0m     logger\u001b[39m.\u001b[39merror(\u001b[39m\"\u001b[39m\u001b[39mFailed to create new connection using: \u001b[39m\u001b[39m%s\u001b[39;00m\u001b[39m\"\u001b[39m, using)\n\u001b[1;32m--> 651\u001b[0m     \u001b[39mraise\u001b[39;00m ex \u001b[39mfrom\u001b[39;00m \u001b[39mex\u001b[39;00m\n\u001b[0;32m    652\u001b[0m \u001b[39melse\u001b[39;00m:\n\u001b[0;32m    653\u001b[0m     logger\u001b[39m.\u001b[39mdebug(\u001b[39m\"\u001b[39m\u001b[39mCreated new connection using: \u001b[39m\u001b[39m%s\u001b[39;00m\u001b[39m\"\u001b[39m, using)\n",
      "File \u001b[1;32md:\\New folder (2)\\.venv\\Lib\\site-packages\\pymilvus\\milvus_client\\milvus_client.py:648\u001b[0m, in \u001b[0;36mMilvusClient._create_connection\u001b[1;34m(self, uri, user, password, db_name, token, **kwargs)\u001b[0m\n\u001b[0;32m    646\u001b[0m using \u001b[39m=\u001b[39m uuid4()\u001b[39m.\u001b[39mhex\n\u001b[0;32m    647\u001b[0m \u001b[39mtry\u001b[39;00m:\n\u001b[1;32m--> 648\u001b[0m     connections\u001b[39m.\u001b[39;49mconnect(using, user, password, db_name, token, uri\u001b[39m=\u001b[39;49muri, \u001b[39m*\u001b[39;49m\u001b[39m*\u001b[39;49mkwargs)\n\u001b[0;32m    649\u001b[0m \u001b[39mexcept\u001b[39;00m \u001b[39mException\u001b[39;00m \u001b[39mas\u001b[39;00m ex:\n\u001b[0;32m    650\u001b[0m     logger\u001b[39m.\u001b[39merror(\u001b[39m\"\u001b[39m\u001b[39mFailed to create new connection using: \u001b[39m\u001b[39m%s\u001b[39;00m\u001b[39m\"\u001b[39m, using)\n",
      "File \u001b[1;32md:\\New folder (2)\\.venv\\Lib\\site-packages\\pymilvus\\orm\\connections.py:378\u001b[0m, in \u001b[0;36mConnections.connect\u001b[1;34m(self, alias, user, password, db_name, token, **kwargs)\u001b[0m\n\u001b[0;32m    373\u001b[0m \u001b[39mif\u001b[39;00m \u001b[39mnot\u001b[39;00m parent_path\u001b[39m.\u001b[39mis_dir():\n\u001b[0;32m    374\u001b[0m     \u001b[39mraise\u001b[39;00m ConnectionConfigException(\n\u001b[0;32m    375\u001b[0m         message\u001b[39m=\u001b[39m\u001b[39mf\u001b[39m\u001b[39m\"\u001b[39m\u001b[39mOpen local milvus failed, dir: \u001b[39m\u001b[39m{\u001b[39;00mparent_path\u001b[39m}\u001b[39;00m\u001b[39m is not exists\u001b[39m\u001b[39m\"\u001b[39m\n\u001b[0;32m    376\u001b[0m     )\n\u001b[1;32m--> 378\u001b[0m \u001b[39mfrom\u001b[39;00m \u001b[39mmilvus_lite\u001b[39;00m\u001b[39m.\u001b[39;00m\u001b[39mserver_manager\u001b[39;00m \u001b[39mimport\u001b[39;00m server_manager_instance\n\u001b[0;32m    380\u001b[0m local_uri \u001b[39m=\u001b[39m server_manager_instance\u001b[39m.\u001b[39mstart_and_get_uri(kwargs[\u001b[39m\"\u001b[39m\u001b[39muri\u001b[39m\u001b[39m\"\u001b[39m])\n\u001b[0;32m    381\u001b[0m \u001b[39mif\u001b[39;00m local_uri \u001b[39mis\u001b[39;00m \u001b[39mNone\u001b[39;00m:\n",
      "\u001b[1;31mModuleNotFoundError\u001b[0m: No module named 'milvus_lite'"
     ]
    }
   ],
   "source": [
    "from pymilvus import MilvusClient\n",
    "\n",
    "client = MilvusClient(\"scraped_content.db\")"
   ]
  },
  {
   "cell_type": "code",
   "execution_count": 3,
   "metadata": {},
   "outputs": [
    {
     "ename": "ImportError",
     "evalue": "cannot import name 'Milvus' from 'milvus' (d:\\New folder (2)\\.venv\\Lib\\site-packages\\milvus\\__init__.py)",
     "output_type": "error",
     "traceback": [
      "\u001b[1;31m---------------------------------------------------------------------------\u001b[0m",
      "\u001b[1;31mImportError\u001b[0m                               Traceback (most recent call last)",
      "Cell \u001b[1;32mIn[3], line 1\u001b[0m\n\u001b[1;32m----> 1\u001b[0m \u001b[39mfrom\u001b[39;00m \u001b[39mmilvus\u001b[39;00m \u001b[39mimport\u001b[39;00m Milvus  \u001b[39m# Assuming MILVUS for document storage\u001b[39;00m\n\u001b[0;32m      3\u001b[0m \u001b[39mdef\u001b[39;00m \u001b[39mstore_content\u001b[39m(content):\n\u001b[0;32m      4\u001b[0m     \u001b[39m# Connect to MILVUS server (replace with your connection details)\u001b[39;00m\n\u001b[0;32m      5\u001b[0m     milvus \u001b[39m=\u001b[39m Milvus(host\u001b[39m=\u001b[39m\u001b[39m'\u001b[39m\u001b[39mlocalhost\u001b[39m\u001b[39m'\u001b[39m, port\u001b[39m=\u001b[39m\u001b[39m19530\u001b[39m)\n",
      "\u001b[1;31mImportError\u001b[0m: cannot import name 'Milvus' from 'milvus' (d:\\New folder (2)\\.venv\\Lib\\site-packages\\milvus\\__init__.py)"
     ]
    }
   ],
   "source": [
    "from milvus import Milvus  # Assuming MILVUS for document storage\n",
    "\n",
    "def store_content(content):\n",
    "    # Connect to MILVUS server (replace with your connection details)\n",
    "    milvus = Milvus(host='localhost', port=19530)\n",
    "\n",
    "    # Create a collection for storing content (adjust schema as needed)\n",
    "    collection_name = 'website_content'\n",
    "    schema = {'schema': [\n",
    "        {'field_name': 'text', 'field_type': 'TEXT', 'is_primary': True}\n",
    "    ]}\n",
    "    milvus.create_collection(collection_name, schema)\n",
    "\n",
    "    # Convert content to appropriate format for MILVUS (e.g., list of dictionaries)\n",
    "    documents = [{'text': item} for item in content]\n",
    "\n",
    "    # Insert documents into the collection\n",
    "    milvus.insert(collection_name, documents)\n",
    "\n",
    "    milvus.disconnect()  # Close connection\n"
   ]
  },
  {
   "cell_type": "code",
   "execution_count": null,
   "metadata": {},
   "outputs": [],
   "source": []
  }
 ],
 "metadata": {
  "kernelspec": {
   "display_name": ".venv",
   "language": "python",
   "name": "python3"
  },
  "language_info": {
   "codemirror_mode": {
    "name": "ipython",
    "version": 3
   },
   "file_extension": ".py",
   "mimetype": "text/x-python",
   "name": "python",
   "nbconvert_exporter": "python",
   "pygments_lexer": "ipython3",
   "version": "3.11.6"
  },
  "orig_nbformat": 4
 },
 "nbformat": 4,
 "nbformat_minor": 2
}
